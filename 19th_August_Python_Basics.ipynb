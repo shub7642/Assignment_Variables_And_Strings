{
 "cells": [
  {
   "cell_type": "markdown",
   "id": "b7c53435",
   "metadata": {},
   "source": [
    "# Python Basics Variable"
   ]
  },
  {
   "cell_type": "markdown",
   "id": "a43c26a9",
   "metadata": {},
   "source": [
    "## 1) Declare two variables, `x` and `y`, and assign them integer values.Swap the values of these variables without using any temporary variable."
   ]
  },
  {
   "cell_type": "code",
   "execution_count": 1,
   "id": "2dd6f3cd",
   "metadata": {},
   "outputs": [],
   "source": [
    "x = 25    #declaring_first_variable\n",
    "y = 50    #declaring_second_variable"
   ]
  },
  {
   "cell_type": "code",
   "execution_count": 2,
   "id": "53d2a8a1",
   "metadata": {},
   "outputs": [],
   "source": [
    "x = x + y\n",
    "y = x - y\n",
    "x = x - y"
   ]
  },
  {
   "cell_type": "code",
   "execution_count": 3,
   "id": "f63a02ca",
   "metadata": {},
   "outputs": [
    {
     "name": "stdout",
     "output_type": "stream",
     "text": [
      "50\n",
      "25\n"
     ]
    }
   ],
   "source": [
    "print(x)\n",
    "print(y)"
   ]
  },
  {
   "cell_type": "markdown",
   "id": "42f271ec",
   "metadata": {},
   "source": [
    "## 2) Create a program that calculates the area of a rectangle. Take the length and width as inputs from the user and store them in variables. Calculate and display the area."
   ]
  },
  {
   "cell_type": "code",
   "execution_count": 7,
   "id": "e6c02e7a",
   "metadata": {},
   "outputs": [
    {
     "name": "stdout",
     "output_type": "stream",
     "text": [
      "Enter lenght 10\n",
      "Enter width 20\n",
      "The area of rectancle is 200\n"
     ]
    }
   ],
   "source": [
    "l = int(input(\"Enter lenght: \"))  #taking_length_as_input_using input_funtion\n",
    "w = int(input(\"Enter width: \"))   #taking_width_as_input_using input_funtion\n",
    "\n",
    "r = l * w                        #Calculating_the_area_of_rectangle\n",
    "print(\"The area of rectancle is\",r)   #Displaying_the_area_of_rectangle"
   ]
  },
  {
   "cell_type": "markdown",
   "id": "a8258429",
   "metadata": {},
   "source": [
    "## 3) Write a Python program that converts temperature from Celsius to Fahrenheit. Take the temperature in Celsius as input, store it in a variable, convert it to Fahrenheit, and display the result."
   ]
  },
  {
   "cell_type": "code",
   "execution_count": 8,
   "id": "7ef9f529",
   "metadata": {},
   "outputs": [
    {
     "name": "stdout",
     "output_type": "stream",
     "text": [
      "Enter Temperature 30\n",
      "The temperature in fahrenhiet is  86.0\n"
     ]
    }
   ],
   "source": [
    "temp_in_c = int(input(\"Enter Temperature in celsius: \")) #Taking_Temparature_as_input\n",
    "temp_in_f = (temp_in_c*9/5)+32                           #converting_celsius_to_fehrenheit\n",
    "print(\"The temperature in fahrenhiet is \",temp_in_f)     #final_conversion_from_celsius_to_fehrenheit"
   ]
  },
  {
   "cell_type": "markdown",
   "id": "65e0c9de",
   "metadata": {},
   "source": [
    "# String Based Questions"
   ]
  },
  {
   "cell_type": "markdown",
   "id": "03ea55ee",
   "metadata": {},
   "source": [
    "## 1) Write a Python program that takes a string as input and prints the length of the string."
   ]
  },
  {
   "cell_type": "code",
   "execution_count": 10,
   "id": "3de44229",
   "metadata": {},
   "outputs": [
    {
     "name": "stdout",
     "output_type": "stream",
     "text": [
      "Enter Anything Tiger\n",
      "The lenght of string is 5\n"
     ]
    }
   ],
   "source": [
    "s = input(\"Enter Anything \")           #taking_string_as_input_from_user\n",
    "print(\"The lenght of string is\",len(s))   #printing_length_of_string"
   ]
  },
  {
   "cell_type": "markdown",
   "id": "9b6f6c3a",
   "metadata": {},
   "source": [
    "## 2) Create a program that takes a sentence from the user and counts the number of vowels (a, e, i, o, u) in the string."
   ]
  },
  {
   "cell_type": "code",
   "execution_count": 13,
   "id": "bfd44b6a",
   "metadata": {},
   "outputs": [
    {
     "name": "stdout",
     "output_type": "stream",
     "text": [
      "Enter a sentence: shubham\n",
      "Number of vowels: 2\n"
     ]
    }
   ],
   "source": [
    "vowels = \"aeiouAEIOU\"                      #defining vowels\n",
    "user_input = input(\"Enter a sentence: \")   #taking input from user\n",
    "vowel_count = 0                            #setting intial vowel_count to 0\n",
    "\n",
    "for char in user_input:                    #used for loop and if condition\n",
    "    if char in vowels:\n",
    "        vowel_count += 1\n",
    "\n",
    "print(\"Number of vowels:\", vowel_count)"
   ]
  },
  {
   "cell_type": "markdown",
   "id": "dae8cb06",
   "metadata": {},
   "source": [
    "## 3) Given a string, reverse the order of characters using string slicing and print the reversed string."
   ]
  },
  {
   "cell_type": "code",
   "execution_count": 19,
   "id": "f6dbc503",
   "metadata": {},
   "outputs": [
    {
     "name": "stdout",
     "output_type": "stream",
     "text": [
      "mahbuhS\n"
     ]
    }
   ],
   "source": [
    "z = \"Shubham\"\n",
    "print(z[-1:-8:-1])"
   ]
  },
  {
   "cell_type": "markdown",
   "id": "bb2c5bf9",
   "metadata": {},
   "source": [
    "## 4) Write a program that takes a string as input and checks if it is a palindrome (reads the same forwards and backwards)."
   ]
  },
  {
   "cell_type": "code",
   "execution_count": 16,
   "id": "1f0195ec",
   "metadata": {},
   "outputs": [
    {
     "name": "stdout",
     "output_type": "stream",
     "text": [
      "Enter a string: kanak\n",
      "The string is a palindrome.\n"
     ]
    }
   ],
   "source": [
    "user_input = input(\"Enter a string: \")         #taking input from user.\n",
    "cleaned_str = user_input.replace(\" \", \"\").lower()   #removing spaces and lowering it\n",
    "reversed_str = cleaned_str[::-1]                    #reversing the string\n",
    "\n",
    "if cleaned_str == reversed_str:                     #using if condition\n",
    "    print(\"The string is a palindrome.\")\n",
    "else:\n",
    "    print(\"The string is not a palindrome.\")"
   ]
  },
  {
   "cell_type": "markdown",
   "id": "0ba058fd",
   "metadata": {},
   "source": [
    "## 5) Create a program that takes a string as input and removes all the spaces from it. Print the modified string without spaces."
   ]
  },
  {
   "cell_type": "code",
   "execution_count": 17,
   "id": "6dca5782",
   "metadata": {},
   "outputs": [
    {
     "name": "stdout",
     "output_type": "stream",
     "text": [
      "Enter a string: shubham shubham shubham\n",
      "Modified string without spaces: shubhamshubhamshubham\n"
     ]
    }
   ],
   "source": [
    "user_input = input(\"Enter a string: \")              #taking input from user\n",
    "modified_string = user_input.replace(\" \", \"\")       #replacing black spaces by no space\n",
    "\n",
    "print(\"Modified string without spaces:\", modified_string)"
   ]
  },
  {
   "cell_type": "code",
   "execution_count": null,
   "id": "8bd3c995",
   "metadata": {},
   "outputs": [],
   "source": []
  }
 ],
 "metadata": {
  "kernelspec": {
   "display_name": "Python 3",
   "language": "python",
   "name": "python3"
  },
  "language_info": {
   "codemirror_mode": {
    "name": "ipython",
    "version": 3
   },
   "file_extension": ".py",
   "mimetype": "text/x-python",
   "name": "python",
   "nbconvert_exporter": "python",
   "pygments_lexer": "ipython3",
   "version": "3.8.8"
  }
 },
 "nbformat": 4,
 "nbformat_minor": 5
}
